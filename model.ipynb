{
 "cells": [
  {
   "cell_type": "markdown",
   "id": "147f1272",
   "metadata": {},
   "source": [
    "## Thyroid Cancer Recurrence Project"
   ]
  },
  {
   "cell_type": "markdown",
   "id": "413ca5a1",
   "metadata": {},
   "source": [
    "Cell 1 - Importing Libraries"
   ]
  },
  {
   "cell_type": "code",
   "execution_count": null,
   "id": "1dee2dc7",
   "metadata": {},
   "outputs": [],
   "source": [
    "import pandas as pd\n",
    "import numpy as np\n",
    "import matplotlib.pyplot as plt"
   ]
  },
  {
   "cell_type": "markdown",
   "id": "ab0cc5b3",
   "metadata": {},
   "source": [
    "Cell 2 - Reading and Importing Data"
   ]
  },
  {
   "cell_type": "code",
   "execution_count": null,
   "id": "627c2c24",
   "metadata": {},
   "outputs": [],
   "source": [
    "dataset = pd.read_csv(\"dataset.csv\")\n",
    "# print(dataset)"
   ]
  },
  {
   "cell_type": "markdown",
   "id": "61ec03c6",
   "metadata": {},
   "source": [
    "Cell 3 - Mapping the features with categorical values that can be represented in binary terms"
   ]
  },
  {
   "cell_type": "code",
   "execution_count": null,
   "id": "3a07687a",
   "metadata": {},
   "outputs": [],
   "source": [
    "dataset['Gender'] = dataset['Gender'].map({'F': 0, 'M': 1})\n",
    "dataset['Focality'] = dataset['Focality'].map({'Uni-Focal': 0, 'Multi-Focal': 1})\n",
    "dataset['M'] = dataset['M'].map({'M0': 0, 'M1':1})\n",
    "\n",
    "binary_columns = ['Smoking', 'Hx Smoking', 'Hx Radiothreapy','Recurred']\n",
    "for col in binary_columns:\n",
    "    dataset[col] = dataset[col].map({'No': 0, 'Yes': 1})\n",
    "#print(dataset)"
   ]
  },
  {
   "cell_type": "markdown",
   "id": "b9b9cff8",
   "metadata": {},
   "source": [
    "Cell 4 - Allocating specific features to variables"
   ]
  },
  {
   "cell_type": "code",
   "execution_count": null,
   "id": "9c58e5cd",
   "metadata": {},
   "outputs": [],
   "source": [
    "X = dataset.iloc[:,:-1]\n",
    "Y = dataset.iloc[:,-1].values"
   ]
  },
  {
   "cell_type": "markdown",
   "id": "47b5c487",
   "metadata": {},
   "source": [
    "Cell 5 - Applying OneHotEncoder to features with categorical values and providing names to features for readability"
   ]
  },
  {
   "cell_type": "code",
   "execution_count": null,
   "id": "4d043a13",
   "metadata": {},
   "outputs": [],
   "source": [
    "from sklearn.compose import ColumnTransformer\n",
    "from sklearn.preprocessing import OneHotEncoder\n",
    "\n",
    "ct = ColumnTransformer(transformers=[('encoder', OneHotEncoder(sparse_output=False), [5,6,7,8,10,11,12,14,15])], \n",
    "                    remainder='passthrough')\n",
    "X = np.array(ct.fit_transform(X))\n",
    "\n",
    "encoded_col_names = ct.named_transformers_['encoder'].get_feature_names_out()\n",
    "non_encoded_col_names = [col for i, col in enumerate(dataset.columns[:-1]) if i not in [5,6,7,8,10,11,12,14,15]]\n",
    "all_col_names = list(encoded_col_names) + non_encoded_col_names\n",
    "\n",
    "X_df = pd.DataFrame(X, columns=all_col_names)\n",
    "#print(X_df.head())"
   ]
  },
  {
   "cell_type": "markdown",
   "id": "82f3ccc5",
   "metadata": {},
   "source": [
    "Cell 6 - Spliting the data for training and testing"
   ]
  },
  {
   "cell_type": "code",
   "execution_count": null,
   "id": "f8794724",
   "metadata": {},
   "outputs": [],
   "source": [
    "from sklearn.model_selection import train_test_split\n",
    "X_train, X_test, Y_train, Y_test = train_test_split(X, Y, test_size=0.2, random_state=0)"
   ]
  },
  {
   "cell_type": "markdown",
   "id": "476f7741",
   "metadata": {},
   "source": [
    "Cell 7 - Training and Testing the model for solutions"
   ]
  },
  {
   "cell_type": "code",
   "execution_count": null,
   "id": "7811ac4d",
   "metadata": {},
   "outputs": [],
   "source": [
    "from sklearn.linear_model import LogisticRegression\n",
    "model = LogisticRegression(max_iter=1000)\n",
    "# No need of regularization here, the metrics of evaluation remain approximately same\n",
    "model.fit(X_train,Y_train)\n",
    "\n",
    "Y_pred = model.predict(X_test)\n",
    "#print('Predictions:', Y_pred)"
   ]
  },
  {
   "cell_type": "markdown",
   "id": "8094a73a",
   "metadata": {},
   "source": [
    "Cell 8 - Evaluation of the Model"
   ]
  },
  {
   "cell_type": "code",
   "execution_count": null,
   "id": "57889472",
   "metadata": {},
   "outputs": [],
   "source": [
    "from sklearn.metrics import accuracy_score, confusion_matrix, precision_score, recall_score\n",
    "print(\"Accuracy %:\", (accuracy_score(Y_test, Y_pred))*100)\n",
    "print(\"Confusion Matrix:\\n\", confusion_matrix(Y_test, Y_pred))\n",
    "print(\"Precision:\", (precision_score(Y_test, Y_pred)))\n",
    "print(\"Recall:\", recall_score(Y_test, Y_pred))"
   ]
  },
  {
   "cell_type": "markdown",
   "id": "306f3cad",
   "metadata": {},
   "source": [
    "Cell 9 - Taking User Input"
   ]
  },
  {
   "cell_type": "code",
   "execution_count": null,
   "id": "cc3460e7",
   "metadata": {},
   "outputs": [],
   "source": [
    "print(\"Please enter details to check your prediction!\")\n",
    "age = int(input(\"Enter Age in Years:\"))\n",
    "gender = input(\"Enter gender(F for Female and M for Male):\")\n",
    "smoking = input(\"Do you smoke now?:\")\n",
    "hx_smoking = input(\"Do you used to smoke?:\")\n",
    "hx_radiotherapy = input(\"Ever had Radiotherapy treatment?:\")\n",
    "thyroid_function = input(\"Status of Thyroid:\")\n",
    "physical_examination = input(\"Findings from a physical examination:\")\n",
    "adenopathy = input(\"Presence of adenopathy:\")\n",
    "pathology = input(\"Type of Thyroid detected in pathological examination:\")\n",
    "focality = input(\"Is cancer uni-focal or multi-focal?:\")\n",
    "risk = input(\"Category of the risk?:\")\n",
    "t = input(\"Type of Tumor:\")\n",
    "n = input(\"Type of node:\")\n",
    "m = input(\"Type of metastasis:\")\n",
    "stage = input(\"Overall stage of cancer:\")\n",
    "response = input(\"Response to the treatment:\")"
   ]
  },
  {
   "cell_type": "markdown",
   "id": "9a1264d7",
   "metadata": {},
   "source": [
    "Cell 10 - Mapping the categorical values into numeric values manually"
   ]
  },
  {
   "cell_type": "code",
   "execution_count": null,
   "id": "3d8fe2b8",
   "metadata": {},
   "outputs": [],
   "source": [
    "gender = 1 if gender == 'M' else 0\n",
    "focality = 1 if focality == 'Multi-Focal' else 0\n",
    "m = 1 if m == 'M1' else 0\n",
    "smoking = 1 if smoking == 'Yes' else 0\n",
    "hx_smoking = 1 if hx_smoking == 'Yes' else 0\n",
    "hx_radiotherapy = 1 if hx_radiotherapy == 'Yes' else 0\n",
    "\n",
    "thyroid_function_encoded = [0,0,0,0,0]\n",
    "if thyroid_function == 'Clinical Hyperthyroidism':\n",
    "    thyroid_function_encoded[0] = 1\n",
    "elif thyroid_function == 'Clinical Hypothyroidism':\n",
    "    thyroid_function_encoded[1] = 1\n",
    "elif thyroid_function == 'Euthyroid':\n",
    "    thyroid_function_encoded[2] = 1\n",
    "elif thyroid_function == 'Subclinical Hyperthyroidism':\n",
    "    thyroid_function_encoded[3] = 1\n",
    "else:\n",
    "    thyroid_function_encoded[4] = 1\n",
    "\n",
    "physical_examination_encoded = [0,0,0,0,0]\n",
    "if physical_examination == 'Diffuse goiter':\n",
    "    physical_examination_encoded[0] = 1\n",
    "elif physical_examination == 'Multinodular goiter':\n",
    "    physical_examination_encoded[1] = 1\n",
    "elif physical_examination == 'Normal':\n",
    "    physical_examination_encoded[2] = 1\n",
    "elif physical_examination == 'Single nodular goiter-left':\n",
    "    physical_examination_encoded[3] = 1\n",
    "else:\n",
    "    physical_examination_encoded[4] = 1\n",
    "\n",
    "adenopathy_encoded = [0,0,0,0,0,0]\n",
    "if adenopathy == 'Bilateral':\n",
    "    adenopathy_encoded[0] = 1\n",
    "elif adenopathy == 'Extensive':\n",
    "    adenopathy_encoded[1] = 1\n",
    "elif adenopathy == 'Left':\n",
    "    adenopathy_encoded[2] = 1\n",
    "elif adenopathy == 'No':\n",
    "    adenopathy_encoded[3] = 1\n",
    "elif adenopathy == 'Posterior':\n",
    "    adenopathy_encoded[4] = 1\n",
    "else:\n",
    "    adenopathy_encoded[5] = 1\n",
    "\n",
    "pathology_encoded = [0,0,0,0]\n",
    "if pathology == 'Follicular':\n",
    "    pathology_encoded[0] = 1\n",
    "elif pathology == 'Hurthel cell':\n",
    "    pathology_encoded[1] = 1\n",
    "elif pathology == 'Micropapillary':\n",
    "    pathology_encoded[2] = 1\n",
    "else:\n",
    "    pathology_encoded[3] = 1\n",
    "\n",
    "risk_encoded = [0,0,0]\n",
    "if risk == 'High':\n",
    "    risk_encoded[0] = 1\n",
    "elif risk == 'Intermediate':\n",
    "    risk_encoded[1] = 1\n",
    "else:\n",
    "    risk_encoded[2] = 1\n",
    "\n",
    "t_encoded = [0,0,0,0,0,0,0]\n",
    "if t == 'T1a':\n",
    "    t_encoded[0] = 1\n",
    "elif t == 'T1b':\n",
    "    t_encoded[1] = 1\n",
    "elif t == 'T2':\n",
    "    t_encoded[2] = 1\n",
    "elif t == 'T3a':\n",
    "    t_encoded[3] = 1\n",
    "elif t == 'T3b':\n",
    "    t_encoded[4] = 1\n",
    "elif t == 'T4a':\n",
    "    t_encoded[5] = 1\n",
    "else:\n",
    "    t_encoded[6] = 1\n",
    "\n",
    "n_encoded = [0,0,0]\n",
    "if n == 'N0':\n",
    "    n_encoded[0] = 1\n",
    "elif n == 'N1a':\n",
    "    n_encoded[1] = 1\n",
    "else:\n",
    "    n_encoded[2] = 1\n",
    "\n",
    "stage_encoded = [0,0,0,0,0]\n",
    "if stage == 'I':\n",
    "    stage_encoded[0] = 1\n",
    "elif stage == 'II':\n",
    "    stage_encoded[1] = 1\n",
    "elif stage == 'III':\n",
    "    stage_encoded[2] = 1\n",
    "elif stage == 'IIII':\n",
    "    stage_encoded[3] = 1\n",
    "else:\n",
    "    stage_encoded[4] = 1\n",
    "\n",
    "response_encoded = [0,0,0,0]\n",
    "if response == 'Biochemical Incomplete':\n",
    "    response_encoded[0] = 1\n",
    "elif response == 'Excellent':\n",
    "    response_encoded[1] = 1\n",
    "elif response == 'Indeterminate':\n",
    "    response_encoded[2] = 1\n",
    "else:\n",
    "    response_encoded[3] = 1"
   ]
  },
  {
   "cell_type": "markdown",
   "id": "95c0c33b",
   "metadata": {},
   "source": [
    "Cell 11 - Fitting the user input for predictions"
   ]
  },
  {
   "cell_type": "code",
   "execution_count": null,
   "id": "fee2e002",
   "metadata": {},
   "outputs": [],
   "source": [
    "user_input = thyroid_function_encoded + physical_examination_encoded + adenopathy_encoded + pathology_encoded + risk_encoded + t_encoded + n_encoded + stage_encoded + response_encoded + [age, gender, smoking, hx_smoking, hx_radiotherapy, focality, m]\n",
    "\n",
    "user_input = np.array(user_input).reshape(1, -1)\n",
    "\n",
    "prediction = model.predict(user_input)\n",
    "print(\"Recurrence Risk:\", \"Yes\" if prediction[0] == 1 else \"No\")"
   ]
  }
 ],
 "metadata": {
  "language_info": {
   "name": "python"
  }
 },
 "nbformat": 4,
 "nbformat_minor": 5
}
